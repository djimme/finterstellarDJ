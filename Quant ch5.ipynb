{
 "cells": [
  {
   "cell_type": "code",
   "execution_count": 3,
   "id": "04773515",
   "metadata": {},
   "outputs": [],
   "source": [
    "import finterstellar as fs"
   ]
  },
  {
   "cell_type": "code",
   "execution_count": 5,
   "id": "ccfa3e11",
   "metadata": {},
   "outputs": [],
   "source": [
    "df_cost = fn.fn_single(otp='17415025081001061051', symbol='COST', window='T')\n",
    "\n",
    "df_cost.tail(3)"
   ]
  },
  {
   "cell_type": "code",
   "execution_count": null,
   "id": "57d505d2",
   "metadata": {},
   "outputs": [],
   "source": []
  }
 ],
 "metadata": {
  "kernelspec": {
   "display_name": "Python 3 (ipykernel)",
   "language": "python",
   "name": "python3"
  },
  "language_info": {
   "codemirror_mode": {
    "name": "ipython",
    "version": 3
   },
   "file_extension": ".py",
   "mimetype": "text/x-python",
   "name": "python",
   "nbconvert_exporter": "python",
   "pygments_lexer": "ipython3",
   "version": "3.9.19"
  }
 },
 "nbformat": 4,
 "nbformat_minor": 5
}
